{
 "cells": [
  {
   "cell_type": "code",
   "execution_count": 1,
   "id": "7379b105",
   "metadata": {},
   "outputs": [],
   "source": [
    "import os, time, json, csv\n",
    "from datetime import datetime, timedelta\n",
    "import logging\n",
    "\n",
    "from selenium import webdriver\n",
    "from selenium.webdriver.common.keys import Keys\n",
    "from selenium.webdriver.common.by import By\n",
    "from webdriver_manager.chrome import ChromeDriverManager\n",
    "from selenium.webdriver.common.desired_capabilities import DesiredCapabilities"
   ]
  },
  {
   "cell_type": "code",
   "execution_count": 2,
   "id": "8a0834c0",
   "metadata": {},
   "outputs": [],
   "source": [
    "def log_setup(name, log_file):\n",
    "    \"\"\"Setup log for the whole process\n",
    "    Parameters:\n",
    "    `log_file` (string): Log file name.\n",
    "    \"\"\"\n",
    "    log_handler = logging.handlers.TimedRotatingFileHandler(\n",
    "    log_file, when=\"midnight\", backupCount=3)\n",
    "    formatter = logging.Formatter(\n",
    "    \"%(asctime)s - %(levelname)s - [%(process)d]: %(message)s\",\n",
    "    \"%Y-%m-%d %H:%M:%S\")\n",
    "    log_handler.setFormatter(formatter)\n",
    "    log_obj = logging.getLogger(name)\n",
    "    log_obj.addHandler(log_handler)\n",
    "    log_obj.setLevel(logging.INFO)\n",
    "    \n",
    "    return log_obj\n",
    "\n",
    "logFile = log_setup('logFile', \"log/crawling-gmaps.log\")"
   ]
  },
  {
   "cell_type": "code",
   "execution_count": 3,
   "id": "4304b7bd",
   "metadata": {},
   "outputs": [],
   "source": [
    "chrome_options = webdriver.ChromeOptions()\n",
    "chrome_options.add_argument(\"--incognito\")\n",
    "chrome_options.add_argument(\"--window-size=1920x1080\")\n",
    "# chrome_options.add_argument(\"--headless\")"
   ]
  },
  {
   "cell_type": "code",
   "execution_count": 4,
   "id": "d062cb1b",
   "metadata": {},
   "outputs": [
    {
     "name": "stderr",
     "output_type": "stream",
     "text": [
      "C:\\Users\\dendy\\AppData\\Local\\Temp/ipykernel_67256/4267024452.py:7: DeprecationWarning: executable_path has been deprecated, please pass in a Service object\n",
      "  driver = webdriver.Chrome(options=chrome_options, executable_path=chromedriver_path)\n"
     ]
    }
   ],
   "source": [
    "chrome_install = ChromeDriverManager().install()\n",
    "\n",
    "folder = os.path.dirname(chrome_install)\n",
    "chromedriver_path = os.path.join(folder, \"chromedriver.exe\")\n",
    "\n",
    "desired_capabilities = DesiredCapabilities.CHROME\n",
    "driver = webdriver.Chrome(options=chrome_options, executable_path=chromedriver_path)\n",
    "driver.maximize_window()"
   ]
  },
  {
   "cell_type": "code",
   "execution_count": 6,
   "id": "16008473",
   "metadata": {},
   "outputs": [],
   "source": [
    "driver.get(\"https://www.google.com/maps/?hl=en\")"
   ]
  },
  {
   "cell_type": "code",
   "execution_count": 8,
   "id": "b102d168",
   "metadata": {},
   "outputs": [],
   "source": [
    "# find_poi = 'atm'\n",
    "find_poi = 'atm bni'\n",
    "f_city_ind = 0\n",
    "l_city_ind = 10"
   ]
  },
  {
   "cell_type": "code",
   "execution_count": 9,
   "id": "6e8450ec",
   "metadata": {},
   "outputs": [
    {
     "data": {
      "text/plain": [
       "['KABUPATEN ACEH BARAT ACEH',\n",
       " 'KABUPATEN ACEH BARAT DAYA ACEH',\n",
       " 'KABUPATEN ACEH BESAR ACEH',\n",
       " 'KABUPATEN ACEH JAYA ACEH',\n",
       " 'KABUPATEN ACEH SELATAN ACEH',\n",
       " 'KABUPATEN ACEH SINGKIL ACEH',\n",
       " 'KABUPATEN ACEH TAMIANG ACEH',\n",
       " 'KABUPATEN ACEH TENGAH ACEH',\n",
       " 'KABUPATEN ACEH TENGGARA ACEH',\n",
       " 'KABUPATEN ACEH TIMUR ACEH',\n",
       " 'KABUPATEN ACEH UTARA ACEH']"
      ]
     },
     "execution_count": 9,
     "metadata": {},
     "output_type": "execute_result"
    }
   ],
   "source": [
    "with open('list_city.csv', newline='') as f:\n",
    "    reader = csv.reader(f)\n",
    "    data = list(reader)\n",
    "list_city = [data[idx][0] if (idx >= f_city_ind) and (idx <= l_city_ind) else None for idx in range(len(data))]\n",
    "list_city = [city for city in list_city if city is not None]\n",
    "list_city"
   ]
  },
  {
   "cell_type": "code",
   "execution_count": 10,
   "id": "07b8f805",
   "metadata": {},
   "outputs": [],
   "source": [
    "logFile.info(f'Start Crawling for POI: {find_poi}')\n",
    "resultFile = log_setup('resultFile', f'result/data_gmaps_poi_{find_poi.replace(\" \",\"_\")}_{f_city_ind}_{l_city_ind}_{datetime.now().strftime(\"%Y%m\")}.txt')"
   ]
  },
  {
   "cell_type": "code",
   "execution_count": 12,
   "id": "dddd84f2",
   "metadata": {},
   "outputs": [
    {
     "data": {
      "text/plain": [
       "[]"
      ]
     },
     "execution_count": 12,
     "metadata": {},
     "output_type": "execute_result"
    }
   ],
   "source": [
    "file_done_city = f'done/list_city_done_{find_poi.replace(\" \",\"_\")}_{f_city_ind}_{l_city_ind}_{datetime.now().strftime(\"%Y%m\")}.csv'\n",
    "if os.path.exists(file_done_city):\n",
    "    with open(file_done_city, newline='') as f:\n",
    "        reader = csv.reader(f)\n",
    "        data = list(reader)\n",
    "    list_done_city = [x[0] for x in data]\n",
    "else:\n",
    "    list_done_city = []\n",
    "list_done_city"
   ]
  },
  {
   "cell_type": "code",
   "execution_count": 20,
   "id": "af7a11ca",
   "metadata": {},
   "outputs": [],
   "source": [
    "city = \"KABUPATEN BEKASI JAWA BARAT\"\n",
    "driver.find_element(By.XPATH, '//*[@id=\"searchboxinput\"]').clear()\n",
    "driver.find_element(By.XPATH, '//*[@id=\"searchboxinput\"]').send_keys(f\"{city}\")"
   ]
  },
  {
   "cell_type": "code",
   "execution_count": 23,
   "id": "54f9d17b",
   "metadata": {},
   "outputs": [],
   "source": [
    "driver.find_element(By.XPATH, '//*[@id=\"searchboxinput\"]').send_keys(Keys.RETURN)"
   ]
  },
  {
   "cell_type": "code",
   "execution_count": 22,
   "id": "1a6fb85c",
   "metadata": {},
   "outputs": [],
   "source": [
    "driver.find_element(By.XPATH, '//*[@id=\"searchboxinput\"]').clear()\n",
    "driver.find_element(By.XPATH, '//*[@id=\"searchboxinput\"]').send_keys(f\"{find_poi} in {city}\")"
   ]
  },
  {
   "cell_type": "code",
   "execution_count": 24,
   "id": "966cd241",
   "metadata": {},
   "outputs": [
    {
     "name": "stdout",
     "output_type": "stream",
     "text": [
      "Total Data: 120\n"
     ]
    }
   ],
   "source": [
    "els = driver.find_element(By.XPATH, '//*[@id=\"QA0Szd\"]/div/div/div[1]/div[2]/div/div[1]/div/div/div[1]/div[1]')\n",
    "els2 = els.find_elements(By.CLASS_NAME, 'hfpxzc')\n",
    "last_el_result = len(els2)\n",
    "try_cnt = 5\n",
    "while (1):\n",
    "    result_el = driver.find_element(By.XPATH, '//*[@id=\"QA0Szd\"]/div/div/div[1]/div[2]/div/div[1]/div/div/div[1]/div[1]')\n",
    "    scrollTop = driver.execute_script(\"return arguments[0].scrollTop\", result_el)\n",
    "    scrollHeight = driver.execute_script(\"return arguments[0].scrollHeight\", result_el)\n",
    "    driver.execute_script(\"arguments[0].scrollTop = arguments[0].scrollHeight + 5000\", result_el)\n",
    "    els = driver.find_element(By.XPATH, '//*[@id=\"QA0Szd\"]/div/div/div[1]/div[2]/div/div[1]/div/div/div[1]/div[1]')\n",
    "    els2 = els.find_elements(By.CLASS_NAME, 'hfpxzc')\n",
    "    if last_el_result == len(els2):\n",
    "        if try_cnt < 0:\n",
    "            break\n",
    "        else:\n",
    "            try_cnt -= 1\n",
    "    else:\n",
    "        last_el_result = len(els2)\n",
    "        try_cnt = 5\n",
    "    time.sleep(1)\n",
    "print(f\"Total Data: {last_el_result}\")\n",
    "logFile.info(f\"Total Data: {last_el_result}\")"
   ]
  },
  {
   "cell_type": "code",
   "execution_count": 25,
   "id": "cad31dd5",
   "metadata": {},
   "outputs": [],
   "source": [
    "idx = 1\n",
    "for el in els2:\n",
    "    data = {}\n",
    "    data['city'] = city\n",
    "    data['name'] = el.get_attribute('aria-label')\n",
    "    parent_el = el.find_element(By.XPATH, '..')\n",
    "    # //*[@id=\"QA0Szd\"]/div/div/div[1]/div[2]/div/div[1]/div/div/div[1]/div[1]/div[3]/div/div[2]/div[4]/div[1]/div/div/div[2]/div[4]/div[1]/span[1]/span\n",
    "    data['cat'] = parent_el.find_element(By.XPATH, './div[2]/div[4]/div[1]/div/div/div[2]/div[4]/div[1]/span[1]/span').text\n",
    "    data['link'] = el.get_attribute('href')\n",
    "    # print(data['link'])\n",
    "    dt_href = data['link'].split(\"/\")[6].split(\"=\")[1].split(\"!\")\n",
    "    data['lat'] = list(filter(lambda item: item is not None, [x[2:] if x[:2].find(\"3d\") > -1 else None for x in dt_href]))[0]\n",
    "    data['lon'] = list(filter(lambda item: item is not None, [x[2:] if x[:2].find(\"4d\") > -1 else None for x in dt_href]))[0].split('?')[0]\n",
    "    data[\"crawling_date\"] = datetime.now().strftime(\"%d-%m-%Y %H:%M:%S\")\n",
    "\n",
    "    # print(f\"{idx}. {data['name']} - {data['cat']} - {data['lat']} - {data['lon']} - {data['link']}\")\n",
    "    logFile.info(f\"{idx}. {data['name']} - {data['cat']} - {data['lat']} - {data['lon']} - {data['link']}\")\n",
    "    resultFile.info(f\"result##{json.dumps(data)}\")\n",
    "    idx+=1"
   ]
  },
  {
   "cell_type": "code",
   "execution_count": 31,
   "id": "faca3fc8",
   "metadata": {},
   "outputs": [
    {
     "data": {
      "text/plain": [
       "['',\n",
       " '4m7',\n",
       " '3m6',\n",
       " '1s0x2e6999e5ce9808e9:0xe76076ac3991649a',\n",
       " '8m2',\n",
       " '3d-6.385615',\n",
       " '4d107.1104503',\n",
       " '16s%2Fg%2F11clht0n63',\n",
       " '19sChIJ6QiYzuWZaS4RmmSROax2YOc?authuser']"
      ]
     },
     "execution_count": 31,
     "metadata": {},
     "output_type": "execute_result"
    }
   ],
   "source": [
    "test_data = 'https://www.google.com/maps/place/ATM+BNI/data=!4m7!3m6!1s0x2e6999e5ce9808e9:0xe76076ac3991649a!8m2!3d-6.385615!4d107.1104503!16s%2Fg%2F11clht0n63!19sChIJ6QiYzuWZaS4RmmSROax2YOc?authuser=0&hl=en&rclk=1'\n",
    "test_data.split('/')[6].split('=')[1].split('!')"
   ]
  },
  {
   "cell_type": "code",
   "execution_count": null,
   "id": "efa65016",
   "metadata": {},
   "outputs": [],
   "source": [
    "for city in list_city:\n",
    "    if city != None and city not in list_done_city:\n",
    "        # city = 'KABUPATEN ACEH JAYA ACEH'\n",
    "        logFile.info(f'Start Crawling for City: {city}')\n",
    "        driver.get(\"https://www.google.com/maps/?hl=en\")\n",
    "        time.sleep(2)\n",
    "        # //*[@id=\"searchboxinput\"]\n",
    "        # /html/body/div[1]/div[3]/div[8]/div[3]/div[1]/div[1]/div/div[1]/form/input\n",
    "        driver.find_element(By.XPATH, '//*[@id=\"searchboxinput\"]').send_keys(f\"{city}\")\n",
    "        time.sleep(2)\n",
    "        driver.find_element(By.XPATH, '//*[@id=\"searchboxinput\"]').send_keys(Keys.RETURN)\n",
    "        time.sleep(2)\n",
    "        driver.find_element(By.XPATH, '//*[@id=\"searchboxinput\"]').clear()\n",
    "        driver.find_element(By.XPATH, '//*[@id=\"searchboxinput\"]').send_keys(f\"{find_poi} in {city}\")\n",
    "        time.sleep(2)\n",
    "        driver.find_element(By.XPATH, '//*[@id=\"searchboxinput\"]').send_keys(Keys.RETURN)\n",
    "        time.sleep(2)\n",
    "\n",
    "        # //*[@id=\"QA0Szd\"]/div/div/div[1]/div[2]/div/div[1]/div/div/div[1]/div[1]\n",
    "        els = driver.find_element(By.XPATH, '//*[@id=\"QA0Szd\"]/div/div/div[1]/div[2]/div/div[1]/div/div/div[1]/div[1]')\n",
    "        els2 = els.find_elements(By.CLASS_NAME, 'hfpxzc')\n",
    "        if len(els2) > 2:\n",
    "            last_el_result = len(els2)\n",
    "            try_cnt = 5\n",
    "            while (1):\n",
    "                result_el = driver.find_element(By.XPATH, '//*[@id=\"QA0Szd\"]/div/div/div[1]/div[2]/div/div[1]/div/div/div[1]/div[1]')\n",
    "                scrollTop = driver.execute_script(\"return arguments[0].scrollTop\", result_el)\n",
    "                scrollHeight = driver.execute_script(\"return arguments[0].scrollHeight\", result_el)\n",
    "                driver.execute_script(\"arguments[0].scrollTop = arguments[0].scrollHeight + 5000\", result_el)\n",
    "                els = driver.find_element(By.XPATH, '//*[@id=\"QA0Szd\"]/div/div/div[1]/div[2]/div/div[1]/div/div/div[1]/div[1]')\n",
    "                els2 = els.find_elements(By.CLASS_NAME, 'hfpxzc')\n",
    "                if last_el_result == len(els2):\n",
    "                    if try_cnt < 0:\n",
    "                        break\n",
    "                    else:\n",
    "                        try_cnt -= 1\n",
    "                else:\n",
    "                    last_el_result = len(els2)\n",
    "                    try_cnt = 5\n",
    "                time.sleep(1)\n",
    "            print(f\"Total Data: {last_el_result}\")\n",
    "            logFile.info(f\"Total Data: {last_el_result}\")\n",
    "\n",
    "            idx = 1\n",
    "            for el in els2:\n",
    "                data = {}\n",
    "                data['city'] = city\n",
    "                data['name'] = el.get_attribute('aria-label')\n",
    "                parent_el = el.find_element(By.XPATH, '..')\n",
    "                data['cat'] = parent_el.find_element(By.XPATH, './div[2]/div[4]/div[1]/div/div/div[2]/div[4]/div[1]/span[1]/span').text\n",
    "                data['link'] = el.get_attribute('href')\n",
    "                # print(data['link'])\n",
    "                dt_href = data['link'].split(\"/\")[6].split(\"=\")[1].split(\"!\")\n",
    "                data['lat'] = list(filter(lambda item: item is not None, [x[2:] if x[:2].find(\"3d\") > -1 else None for x in dt_href]))[0]\n",
    "                data['lon'] = list(filter(lambda item: item is not None, [x[2:] if x[:2].find(\"4d\") > -1 else None for x in dt_href]))[0].split('?')[0]\n",
    "                data[\"crawling_date\"] = datetime.now().strftime(\"%d-%m-%Y %H:%M:%S\")\n",
    "\n",
    "                # print(f\"{idx}. {data['name']} - {data['cat']} - {data['lat']} - {data['lon']} - {data['link']}\")\n",
    "                logFile.info(f\"{idx}. {data['name']} - {data['cat']} - {data['lat']} - {data['lon']} - {data['link']}\")\n",
    "                resultFile.info(f\"result##{json.dumps(data)}\")\n",
    "                idx+=1\n",
    "        \n",
    "        list_done_city.append(city)\n",
    "        with open(file_done_city, 'w+') as f:\n",
    "            f.write(\"\\n\".join(list_done_city))"
   ]
  },
  {
   "cell_type": "code",
   "execution_count": null,
   "id": "f5928f96",
   "metadata": {},
   "outputs": [],
   "source": []
  },
  {
   "cell_type": "code",
   "execution_count": null,
   "id": "8e601522",
   "metadata": {},
   "outputs": [],
   "source": []
  }
 ],
 "metadata": {
  "kernelspec": {
   "display_name": "base",
   "language": "python",
   "name": "python3"
  },
  "language_info": {
   "codemirror_mode": {
    "name": "ipython",
    "version": 3
   },
   "file_extension": ".py",
   "mimetype": "text/x-python",
   "name": "python",
   "nbconvert_exporter": "python",
   "pygments_lexer": "ipython3",
   "version": "3.9.12"
  }
 },
 "nbformat": 4,
 "nbformat_minor": 5
}
